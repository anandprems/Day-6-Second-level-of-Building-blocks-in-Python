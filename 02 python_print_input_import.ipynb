{
 "cells": [
  {
   "cell_type": "markdown",
   "id": "401b39c1",
   "metadata": {},
   "source": [
    "# print() function"
   ]
  },
  {
   "cell_type": "code",
   "execution_count": 3,
   "id": "66bfc8b1",
   "metadata": {},
   "outputs": [],
   "source": [
    "#Format for print inbuilt in function \n",
    "#print(*objects, sep=' ', end='\\n', file=sys.stdout, flush=False)"
   ]
  },
  {
   "cell_type": "code",
   "execution_count": 4,
   "id": "a266bd30",
   "metadata": {},
   "outputs": [
    {
     "name": "stdout",
     "output_type": "stream",
     "text": [
      "hey hi, can you able to see my sentence?!\n"
     ]
    }
   ],
   "source": [
    "#to print the simple sentence\n",
    "print('hey hi, can you able to see my sentence?!')"
   ]
  },
  {
   "cell_type": "code",
   "execution_count": 5,
   "id": "5a3da437",
   "metadata": {},
   "outputs": [
    {
     "name": "stdout",
     "output_type": "stream",
     "text": [
      "what is your family name? SPNK\n"
     ]
    }
   ],
   "source": [
    "#another way to assign the values and print\n",
    "name = 'SPNK'\n",
    "print('what is your family name?',name)"
   ]
  },
  {
   "cell_type": "code",
   "execution_count": 6,
   "id": "e6e07149",
   "metadata": {},
   "outputs": [
    {
     "name": "stdout",
     "output_type": "stream",
     "text": [
      "2 5.0 (3+6j) 5468\n",
      "2*5.0*(3+6j)*5468\n",
      "2#5.0#(3+6j)#5468&"
     ]
    }
   ],
   "source": [
    "#different statements with print function parameters\n",
    "print(2,5.0,3+6j, 5468)\n",
    "print(2,5.0,3+6j, 5468, sep='*')\n",
    "print(2,5.0,3+6j, 5468, sep='#', end='*')"
   ]
  },
  {
   "cell_type": "markdown",
   "id": "655f8f6e",
   "metadata": {},
   "source": [
    "# print() - modification"
   ]
  },
  {
   "cell_type": "code",
   "execution_count": 7,
   "id": "e02dfa8a",
   "metadata": {},
   "outputs": [
    {
     "name": "stdout",
     "output_type": "stream",
     "text": [
      "My childrens name are as follows, son name is Nikhilesh and daughter name is Krithiksha\n"
     ]
    }
   ],
   "source": [
    "#{} act as placeholders\n",
    "son = 'Nikhilesh'; daughter = 'Krithiksha'\n",
    "print('My childrens name are as follows, son name is {} and daughter name is {}'.format(son,daughter))"
   ]
  },
  {
   "cell_type": "code",
   "execution_count": 9,
   "id": "eb29fe22",
   "metadata": {},
   "outputs": [
    {
     "name": "stdout",
     "output_type": "stream",
     "text": [
      "I love my bhubhu and pinky\n",
      "I love my pinky and bhubhu\n"
     ]
    }
   ],
   "source": [
    "#another way of modifications are by inserting index of tuple datatype\n",
    "print('I love my {0} and {1}'.format('bhubhu','pinky'))\n",
    "print('I love my {1} and {0}'.format('bhubhu','pinky'))"
   ]
  },
  {
   "cell_type": "code",
   "execution_count": 10,
   "id": "50d4f870",
   "metadata": {},
   "outputs": [
    {
     "name": "stdout",
     "output_type": "stream",
     "text": [
      "Hello rajasekar, Goodevening welcome to my class\n"
     ]
    }
   ],
   "source": [
    "#another way of modification are as\n",
    "print('Hello {name}, {greeting} welcome to my class'.format(greeting = 'Goodevening', name = 'rajasekar'))"
   ]
  },
  {
   "cell_type": "code",
   "execution_count": 16,
   "id": "81ec0320",
   "metadata": {},
   "outputs": [
    {
     "name": "stdout",
     "output_type": "stream",
     "text": [
      "The accuracy of my experiment is 95.87\n"
     ]
    }
   ],
   "source": [
    "#modifications with numbers\n",
    "my_acc = 95.865975 \n",
    "print('The accuracy of my experiment is %0.2f' %my_acc)"
   ]
  },
  {
   "cell_type": "markdown",
   "id": "7384f71e",
   "metadata": {},
   "source": [
    "# Input() "
   ]
  },
  {
   "cell_type": "code",
   "execution_count": 17,
   "id": "48741529",
   "metadata": {},
   "outputs": [],
   "source": [
    "#format for input function\n",
    "#input([prompt])"
   ]
  },
  {
   "cell_type": "code",
   "execution_count": 1,
   "id": "f4e9e43d",
   "metadata": {},
   "outputs": [
    {
     "name": "stdout",
     "output_type": "stream",
     "text": [
      "What is your name?premanand\n"
     ]
    }
   ],
   "source": [
    "ask_name = input('What is your name?')"
   ]
  },
  {
   "cell_type": "code",
   "execution_count": 2,
   "id": "1049976e",
   "metadata": {},
   "outputs": [
    {
     "name": "stdout",
     "output_type": "stream",
     "text": [
      "What is your age?16\n"
     ]
    }
   ],
   "source": [
    "age = input('What is your age?')"
   ]
  },
  {
   "cell_type": "code",
   "execution_count": 3,
   "id": "a157b671",
   "metadata": {},
   "outputs": [
    {
     "data": {
      "text/plain": [
       "'16'"
      ]
     },
     "execution_count": 3,
     "metadata": {},
     "output_type": "execute_result"
    }
   ],
   "source": [
    "age"
   ]
  },
  {
   "cell_type": "code",
   "execution_count": 5,
   "id": "5631be8f",
   "metadata": {},
   "outputs": [
    {
     "ename": "TypeError",
     "evalue": "can only concatenate str (not \"int\") to str",
     "output_type": "error",
     "traceback": [
      "\u001b[1;31m---------------------------------------------------------------------------\u001b[0m",
      "\u001b[1;31mTypeError\u001b[0m                                 Traceback (most recent call last)",
      "\u001b[1;32mC:\\Users\\SAB367~1.N\\AppData\\Local\\Temp/ipykernel_20928/352932136.py\u001b[0m in \u001b[0;36m<module>\u001b[1;34m\u001b[0m\n\u001b[1;32m----> 1\u001b[1;33m \u001b[0mage\u001b[0m\u001b[1;33m+\u001b[0m\u001b[1;36m2\u001b[0m\u001b[1;33m\u001b[0m\u001b[1;33m\u001b[0m\u001b[0m\n\u001b[0m",
      "\u001b[1;31mTypeError\u001b[0m: can only concatenate str (not \"int\") to str"
     ]
    }
   ],
   "source": [
    "age+2"
   ]
  },
  {
   "cell_type": "code",
   "execution_count": 4,
   "id": "8d78b7f1",
   "metadata": {},
   "outputs": [
    {
     "data": {
      "text/plain": [
       "str"
      ]
     },
     "execution_count": 4,
     "metadata": {},
     "output_type": "execute_result"
    }
   ],
   "source": [
    "type(age)"
   ]
  },
  {
   "cell_type": "code",
   "execution_count": 9,
   "id": "45866fd3",
   "metadata": {},
   "outputs": [
    {
     "name": "stdout",
     "output_type": "stream",
     "text": [
      "what is your age?16\n"
     ]
    }
   ],
   "source": [
    "age_num = float(input('what is your age?')) #to get the value as numbers instead of strings, you can use float also"
   ]
  },
  {
   "cell_type": "code",
   "execution_count": 10,
   "id": "1a028877",
   "metadata": {},
   "outputs": [
    {
     "data": {
      "text/plain": [
       "16.0"
      ]
     },
     "execution_count": 10,
     "metadata": {},
     "output_type": "execute_result"
    }
   ],
   "source": [
    "age_num"
   ]
  },
  {
   "cell_type": "code",
   "execution_count": 11,
   "id": "9798ad19",
   "metadata": {},
   "outputs": [
    {
     "data": {
      "text/plain": [
       "float"
      ]
     },
     "execution_count": 11,
     "metadata": {},
     "output_type": "execute_result"
    }
   ],
   "source": [
    "type(age_num)"
   ]
  },
  {
   "cell_type": "markdown",
   "id": "ef2008f5",
   "metadata": {},
   "source": [
    "# Import"
   ]
  },
  {
   "cell_type": "code",
   "execution_count": 25,
   "id": "0e7d8fbf",
   "metadata": {},
   "outputs": [],
   "source": [
    "#simple module\n",
    "import math"
   ]
  },
  {
   "cell_type": "code",
   "execution_count": 26,
   "id": "ccc442ce",
   "metadata": {},
   "outputs": [
    {
     "name": "stdout",
     "output_type": "stream",
     "text": [
      "3.141592653589793\n"
     ]
    }
   ],
   "source": [
    "#for pi value\n",
    "print(math.pi)"
   ]
  },
  {
   "cell_type": "code",
   "execution_count": 27,
   "id": "26d68743",
   "metadata": {},
   "outputs": [
    {
     "name": "stdout",
     "output_type": "stream",
     "text": [
      "2.718281828459045\n"
     ]
    }
   ],
   "source": [
    "#for eulers number\n",
    "print(math.e)"
   ]
  },
  {
   "cell_type": "code",
   "execution_count": 28,
   "id": "570e4b97",
   "metadata": {},
   "outputs": [
    {
     "name": "stdout",
     "output_type": "stream",
     "text": [
      "log(fabs(x), base) is : -0.9999999999999998\n"
     ]
    }
   ],
   "source": [
    "#natural logarithm of a given number\n",
    "number = 10e-2  # small value of of x    \n",
    "print('log(fabs(x), base) is :', math.log(math.fabs(number), 10))    "
   ]
  },
  {
   "cell_type": "code",
   "execution_count": 30,
   "id": "99fc3ded",
   "metadata": {},
   "outputs": [
    {
     "name": "stdout",
     "output_type": "stream",
     "text": [
      "log10(x) is : 1.0\n"
     ]
    }
   ],
   "source": [
    "#returns base 10 logarithm of the given number and called the standard logarithm\n",
    "x=10  # small value of of x    \n",
    "print('log10(x) is :', math.log10(x))   "
   ]
  },
  {
   "cell_type": "code",
   "execution_count": 31,
   "id": "cc45741f",
   "metadata": {},
   "outputs": [
    {
     "name": "stdout",
     "output_type": "stream",
     "text": [
      "The given number (x) is : 0.05\n",
      "e^x (using exp() function) is : 0.05127109637602412\n"
     ]
    }
   ],
   "source": [
    "#returns a floating-point number after raising e to the given number\n",
    "number = 5e-2  # small value of of x    \n",
    "print('The given number (x) is :', number)    \n",
    "print('e^x (using exp() function) is :', math.exp(number)-1)   "
   ]
  },
  {
   "cell_type": "code",
   "execution_count": 32,
   "id": "bd6a82cd",
   "metadata": {},
   "outputs": [
    {
     "name": "stdout",
     "output_type": "stream",
     "text": [
      "The power of number: 100.0\n"
     ]
    }
   ],
   "source": [
    "#returns the power of the x corresponding to the value of y. \n",
    "#If value of x is negative or y is not integer value than it raises a ValueError.\n",
    "number = math.pow(10,2)  \n",
    "print(\"The power of number:\",number)  "
   ]
  },
  {
   "cell_type": "code",
   "execution_count": 33,
   "id": "099dd92a",
   "metadata": {},
   "outputs": [
    {
     "name": "stdout",
     "output_type": "stream",
     "text": [
      "The floor value is: 10\n"
     ]
    }
   ],
   "source": [
    "#returns the floor value of the x. It returns the less than or equal value to x.\n",
    "number = math.floor(10.25201)  \n",
    "print(\"The floor value is:\",number)  "
   ]
  },
  {
   "cell_type": "code",
   "execution_count": 34,
   "id": "badac5dc",
   "metadata": {},
   "outputs": [
    {
     "name": "stdout",
     "output_type": "stream",
     "text": [
      "The modf of number: (0.5, 44.0)\n"
     ]
    }
   ],
   "source": [
    "#returns the fractional and integer parts of x. It carries the sign of x is float\n",
    "number = math.modf(44.5)  \n",
    "print(\"The modf of number:\",number)  "
   ]
  },
  {
   "cell_type": "code",
   "execution_count": 35,
   "id": "4d4b07ee",
   "metadata": {},
   "outputs": [
    {
     "name": "stdout",
     "output_type": "stream",
     "text": [
      "The factorial of number: 2\n"
     ]
    }
   ],
   "source": [
    "#method returns the factorial of the given number x. \n",
    "#If x is not integral, it raises a ValueError\n",
    "number = math.factorial(2)  \n",
    "print(\"The factorial of number:\",number)  "
   ]
  },
  {
   "cell_type": "code",
   "execution_count": 36,
   "id": "c0596cb4",
   "metadata": {},
   "outputs": [
    {
     "data": {
      "text/plain": [
       "['C:\\\\Users\\\\S.A.N\\\\Downloads',\n",
       " 'C:\\\\ProgramData\\\\Anaconda3\\\\python39.zip',\n",
       " 'C:\\\\ProgramData\\\\Anaconda3\\\\DLLs',\n",
       " 'C:\\\\ProgramData\\\\Anaconda3\\\\lib',\n",
       " 'C:\\\\ProgramData\\\\Anaconda3',\n",
       " '',\n",
       " 'C:\\\\Users\\\\S.A.N\\\\AppData\\\\Roaming\\\\Python\\\\Python39\\\\site-packages',\n",
       " 'C:\\\\ProgramData\\\\Anaconda3\\\\lib\\\\site-packages',\n",
       " 'C:\\\\ProgramData\\\\Anaconda3\\\\lib\\\\site-packages\\\\locket-0.2.1-py3.9.egg',\n",
       " 'C:\\\\ProgramData\\\\Anaconda3\\\\lib\\\\site-packages\\\\win32',\n",
       " 'C:\\\\ProgramData\\\\Anaconda3\\\\lib\\\\site-packages\\\\win32\\\\lib',\n",
       " 'C:\\\\ProgramData\\\\Anaconda3\\\\lib\\\\site-packages\\\\Pythonwin',\n",
       " 'C:\\\\ProgramData\\\\Anaconda3\\\\lib\\\\site-packages\\\\IPython\\\\extensions',\n",
       " 'C:\\\\Users\\\\S.A.N\\\\.ipython']"
      ]
     },
     "execution_count": 36,
     "metadata": {},
     "output_type": "execute_result"
    }
   ],
   "source": [
    "#our very own system specification\n",
    "import sys\n",
    "sys.path"
   ]
  },
  {
   "cell_type": "code",
   "execution_count": null,
   "id": "bfee4184",
   "metadata": {},
   "outputs": [],
   "source": []
  }
 ],
 "metadata": {
  "kernelspec": {
   "display_name": "Python 3 (ipykernel)",
   "language": "python",
   "name": "python3"
  },
  "language_info": {
   "codemirror_mode": {
    "name": "ipython",
    "version": 3
   },
   "file_extension": ".py",
   "mimetype": "text/x-python",
   "name": "python",
   "nbconvert_exporter": "python",
   "pygments_lexer": "ipython3",
   "version": "3.9.7"
  }
 },
 "nbformat": 4,
 "nbformat_minor": 5
}
