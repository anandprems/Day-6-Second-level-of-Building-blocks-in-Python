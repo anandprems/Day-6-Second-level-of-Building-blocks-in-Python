{
 "cells": [
  {
   "cell_type": "code",
   "execution_count": 1,
   "id": "edd47f5d",
   "metadata": {},
   "outputs": [],
   "source": [
    "#specialized collection data types\n",
    "#COLLECTION MODULE \n",
    "#namedtuple()\n",
    "#chainmap\n",
    "#deque\n",
    "#counter\n",
    "#orderedDict\n",
    "#defaultdict\n",
    "#userdict\n",
    "#userlist\n",
    "#userstring"
   ]
  },
  {
   "cell_type": "code",
   "execution_count": 10,
   "id": "21dc8ac5",
   "metadata": {},
   "outputs": [
    {
     "name": "stdout",
     "output_type": "stream",
     "text": [
      "prem(lastname='anand', age='34', qualification='M.E (PhD)')\n",
      "{'lastname': 'anand', 'age': '34', 'qualification': 'M.E (PhD)'}\n"
     ]
    }
   ],
   "source": [
    "#namedtuple() - returns a tuple with a named value \n",
    "#class collections.namedtuple(typename, field_names)\n",
    "\n",
    "from collections import namedtuple\n",
    "name = namedtuple('prem',['lastname','age', 'qualification'])\n",
    "details_1 = name('anand','34','M.E (PhD)')\n",
    "print(details_1)\n",
    "\n",
    "#as in dictionary concept\n",
    "print(details_1._asdict())"
   ]
  },
  {
   "cell_type": "code",
   "execution_count": 8,
   "id": "da25ef5f",
   "metadata": {},
   "outputs": [
    {
     "name": "stdout",
     "output_type": "stream",
     "text": [
      "prem(lastname='santha', age='34', qualification='M.B.B.S, DGO')\n"
     ]
    }
   ],
   "source": [
    "details_2 = name._make(['santha','34','M.B.B.S, DGO'])\n",
    "print(details_2)"
   ]
  },
  {
   "cell_type": "code",
   "execution_count": 11,
   "id": "e76d122d",
   "metadata": {},
   "outputs": [
    {
     "name": "stdout",
     "output_type": "stream",
     "text": [
      "deque(['p', 'y', 't', 'h', 'o', 'n', 'i', 's', 't', 'a'])\n"
     ]
    }
   ],
   "source": [
    "#deque - double ended queue - optimized list for quicker append (insertion) and pop (deletion) operations\n",
    "#class collections.deque(list)\n",
    "\n",
    "from collections import deque\n",
    "name = ['p','y','t','h','o','n','i','s','t','a']\n",
    "output = deque(name)\n",
    "print(output)"
   ]
  },
  {
   "cell_type": "code",
   "execution_count": 12,
   "id": "d0f2c7b3",
   "metadata": {},
   "outputs": [
    {
     "name": "stdout",
     "output_type": "stream",
     "text": [
      "deque(['p', 'y', 't', 'h', 'o', 'n', 'i', 's', 't', 'a', 'hello'])\n"
     ]
    }
   ],
   "source": [
    "output.append('hello')\n",
    "print(output)"
   ]
  },
  {
   "cell_type": "code",
   "execution_count": 13,
   "id": "0a635cfc",
   "metadata": {},
   "outputs": [
    {
     "name": "stdout",
     "output_type": "stream",
     "text": [
      "deque(['hello', 'p', 'y', 't', 'h', 'o', 'n', 'i', 's', 't', 'a', 'hello'])\n"
     ]
    }
   ],
   "source": [
    "output.appendleft('hello')\n",
    "print(output)"
   ]
  },
  {
   "cell_type": "code",
   "execution_count": 14,
   "id": "805a5553",
   "metadata": {},
   "outputs": [
    {
     "name": "stdout",
     "output_type": "stream",
     "text": [
      "deque(['p', 'y', 't', 'h', 'o', 'n', 'i', 's', 't', 'a', 'hello'])\n"
     ]
    }
   ],
   "source": [
    "#end last value removed\n",
    "output.popleft()\n",
    "print(output)"
   ]
  },
  {
   "cell_type": "code",
   "execution_count": 15,
   "id": "6683b7a3",
   "metadata": {},
   "outputs": [
    {
     "name": "stdout",
     "output_type": "stream",
     "text": [
      "deque(['p', 'y', 't', 'h', 'o', 'n', 'i', 's', 't', 'a'])\n"
     ]
    }
   ],
   "source": [
    "#end value gets removed\n",
    "output.pop()\n",
    "print(output)"
   ]
  },
  {
   "cell_type": "code",
   "execution_count": 23,
   "id": "c55fc69b",
   "metadata": {},
   "outputs": [
    {
     "name": "stdout",
     "output_type": "stream",
     "text": [
      "ChainMap({1: 'prem', 2: '2009'}, {3: 'anand', 4: '2011'})\n"
     ]
    }
   ],
   "source": [
    "#chainmap is like a dictionary like class for creating single view of mapping\n",
    "from collections import ChainMap\n",
    "name_1 = {1 : 'prem', 2 :'2009'}\n",
    "name_2 = {3 : 'anand', 4 :'2011'}\n",
    "output_1 = ChainMap(name_1, name_2)\n",
    "print(output_1)"
   ]
  },
  {
   "cell_type": "code",
   "execution_count": 24,
   "id": "da47686a",
   "metadata": {},
   "outputs": [
    {
     "name": "stdout",
     "output_type": "stream",
     "text": [
      "Counter({2: 5, 3: 5, 5: 5, 4: 3, 6: 3, 1: 2, 7: 1})\n"
     ]
    }
   ],
   "source": [
    "#counter -dictionary for counting hastag objects\n",
    "from collections import Counter\n",
    "num_counts = [1,1,2,2,2,2,2,3,3,3,3,3,4,4,4,5,5,5,5,5,6,6,6,7]\n",
    "final_counts = Counter(num_counts)\n",
    "print(final_counts)"
   ]
  },
  {
   "cell_type": "code",
   "execution_count": 25,
   "id": "0928767e",
   "metadata": {},
   "outputs": [
    {
     "name": "stdout",
     "output_type": "stream",
     "text": [
      "[1, 1, 2, 2, 2, 2, 2, 3, 3, 3, 3, 3, 4, 4, 4, 5, 5, 5, 5, 5, 6, 6, 6, 7]\n"
     ]
    }
   ],
   "source": [
    "print(list(final_counts.elements()))"
   ]
  },
  {
   "cell_type": "code",
   "execution_count": 26,
   "id": "73ee5cd0",
   "metadata": {},
   "outputs": [
    {
     "name": "stdout",
     "output_type": "stream",
     "text": [
      "[(2, 5), (3, 5), (5, 5), (4, 3), (6, 3), (1, 2), (7, 1)]\n"
     ]
    }
   ],
   "source": [
    "print(final_counts.most_common())"
   ]
  },
  {
   "cell_type": "code",
   "execution_count": 27,
   "id": "90214e21",
   "metadata": {},
   "outputs": [
    {
     "name": "stdout",
     "output_type": "stream",
     "text": [
      "None\n",
      "[(5, 5), (3, 3), (4, 3), (6, 3), (1, 2), (2, 1), (7, 0)]\n"
     ]
    }
   ],
   "source": [
    "sub_num = {2:4,3:2,7:1}\n",
    "print(final_counts.subtract(sub_num))\n",
    "print(final_counts.most_common())"
   ]
  },
  {
   "cell_type": "code",
   "execution_count": null,
   "id": "9c89adb7",
   "metadata": {},
   "outputs": [],
   "source": [
    "#OrderedDict - to find the order in which initiated\n",
    "from collections import OrderedDict\n"
   ]
  }
 ],
 "metadata": {
  "kernelspec": {
   "display_name": "Python 3 (ipykernel)",
   "language": "python",
   "name": "python3"
  },
  "language_info": {
   "codemirror_mode": {
    "name": "ipython",
    "version": 3
   },
   "file_extension": ".py",
   "mimetype": "text/x-python",
   "name": "python",
   "nbconvert_exporter": "python",
   "pygments_lexer": "ipython3",
   "version": "3.9.7"
  }
 },
 "nbformat": 4,
 "nbformat_minor": 5
}
